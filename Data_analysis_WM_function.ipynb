{
 "cells": [
  {
   "cell_type": "markdown",
   "id": "f307cec2-6d8e-4e71-8607-d5044bf69b0a",
   "metadata": {
    "jp-MarkdownHeadingCollapsed": true
   },
   "source": [
    "# Load libraries"
   ]
  },
  {
   "cell_type": "code",
   "execution_count": 3,
   "id": "1e103241",
   "metadata": {
    "scrolled": true
   },
   "outputs": [
    {
     "name": "stderr",
     "output_type": "stream",
     "text": [
      "Loading required package: psych\n",
      "\n",
      "Loading required package: dplyr\n",
      "\n",
      "\n",
      "Attaching package: ‘dplyr’\n",
      "\n",
      "\n",
      "The following objects are masked from ‘package:stats’:\n",
      "\n",
      "    filter, lag\n",
      "\n",
      "\n",
      "The following objects are masked from ‘package:base’:\n",
      "\n",
      "    intersect, setdiff, setequal, union\n",
      "\n",
      "\n",
      "Loading required package: ggplot2\n",
      "\n",
      "\n",
      "Attaching package: ‘ggplot2’\n",
      "\n",
      "\n",
      "The following objects are masked from ‘package:psych’:\n",
      "\n",
      "    %+%, alpha\n",
      "\n",
      "\n",
      "Loading required package: car\n",
      "\n",
      "Loading required package: carData\n",
      "\n",
      "\n",
      "Attaching package: ‘car’\n",
      "\n",
      "\n",
      "The following object is masked from ‘package:dplyr’:\n",
      "\n",
      "    recode\n",
      "\n",
      "\n",
      "The following object is masked from ‘package:psych’:\n",
      "\n",
      "    logit\n",
      "\n",
      "\n",
      "Loading required package: janitor\n",
      "\n",
      "\n",
      "Attaching package: ‘janitor’\n",
      "\n",
      "\n",
      "The following objects are masked from ‘package:stats’:\n",
      "\n",
      "    chisq.test, fisher.test\n",
      "\n",
      "\n",
      "Loading required package: readxl\n",
      "\n",
      "Loading required package: remotes\n",
      "\n",
      "Loading required package: ggpubr\n",
      "\n",
      "Loading required package: ggseg\n",
      "\n",
      "Loading required package: ggseg3d\n",
      "\n",
      "Loading required package: easystats\n",
      "\n",
      "\u001b[34m# Attaching packages: easystats 0.6.0\u001b[39m\u001b[34m (\u001b[39m\u001b[31mred\u001b[39m\u001b[34m = needs update)\u001b[39m\n",
      "\u001b[31m✖ \u001b[39m\u001b[37mbayestestR \u001b[39m \u001b[31m0.13.1\u001b[39m   \u001b[32m✔ \u001b[39m\u001b[37mcorrelation\u001b[39m \u001b[32m0.8.4 \u001b[39m\n",
      "\u001b[31m✖ \u001b[39m\u001b[37mdatawizard \u001b[39m \u001b[31m0.9.0 \u001b[39m   \u001b[31m✖ \u001b[39m\u001b[37meffectsize \u001b[39m \u001b[31m0.8.6 \u001b[39m\n",
      "\u001b[31m✖ \u001b[39m\u001b[37minsight    \u001b[39m \u001b[31m0.19.5\u001b[39m   \u001b[31m✖ \u001b[39m\u001b[37mmodelbased \u001b[39m \u001b[31m0.8.6 \u001b[39m\n",
      "\u001b[31m✖ \u001b[39m\u001b[37mperformance\u001b[39m \u001b[31m0.10.5\u001b[39m   \u001b[31m✖ \u001b[39m\u001b[37mparameters \u001b[39m \u001b[31m0.21.2\u001b[39m\n",
      "\u001b[31m✖ \u001b[39m\u001b[37mreport     \u001b[39m \u001b[31m0.5.7 \u001b[39m   \u001b[31m✖ \u001b[39m\u001b[37msee        \u001b[39m \u001b[31m0.8.0 \u001b[39m\n",
      "\u001b[33m\n",
      "Restart the R-Session and update packages in red with `easystats::easystats_update()`.\n",
      "\u001b[39m\n",
      "\n",
      "Loading required package: matrixStats\n",
      "\n",
      "\n",
      "Attaching package: ‘matrixStats’\n",
      "\n",
      "\n",
      "The following object is masked from ‘package:dplyr’:\n",
      "\n",
      "    count\n",
      "\n",
      "\n",
      "Loading required package: ggsegDKT\n",
      "\n",
      "Loading required package: plotly\n",
      "\n",
      "\n",
      "Attaching package: ‘plotly’\n",
      "\n",
      "\n",
      "The following object is masked from ‘package:ggplot2’:\n",
      "\n",
      "    last_plot\n",
      "\n",
      "\n",
      "The following object is masked from ‘package:stats’:\n",
      "\n",
      "    filter\n",
      "\n",
      "\n",
      "The following object is masked from ‘package:graphics’:\n",
      "\n",
      "    layout\n",
      "\n",
      "\n",
      "Loading required package: officer\n",
      "\n",
      "\n",
      "Attaching package: ‘officer’\n",
      "\n",
      "\n",
      "The following object is masked from ‘package:readxl’:\n",
      "\n",
      "    read_xlsx\n",
      "\n",
      "\n",
      "Loading required package: flextable\n",
      "\n",
      "\n",
      "Attaching package: ‘flextable’\n",
      "\n",
      "\n",
      "The following objects are masked from ‘package:plotly’:\n",
      "\n",
      "    highlight, style\n",
      "\n",
      "\n",
      "The following objects are masked from ‘package:ggpubr’:\n",
      "\n",
      "    border, font, rotate\n",
      "\n",
      "\n",
      "Loading required package: RNifti\n",
      "\n",
      "Loading required package: grid\n",
      "\n",
      "Loading required package: tiff\n",
      "\n"
     ]
    }
   ],
   "source": [
    "#rhumba::set_channels(c(\"conda-forge\", \"default\")) # Rhumba makes it easier to install packages in conda; set channels for rhumba\n",
    "\n",
    "if (!require(\"psych\")) rhumba::install(\"r-psych\")\n",
    "if (!require(\"dplyr\")) rhumba::install(\"r-dplyr\")\n",
    "if (!require(\"ggplot2\")) rhumba::install(\"r-ggplot2\")\n",
    "if (!require(\"car\")) rhumba::install(\"r-car\")\n",
    "if (!require(\"janitor\")) rhumba::install(\"r-janitor\")\n",
    "if (!require(\"readxl\")) rhumba::install(\"r-readxl\")\n",
    "if (!require(\"remotes\")) rhumba::install(\"r-remotes\")\n",
    "#if (!require(\"hmisc\")) rhumba::install(\"r-hmisc\")\n",
    "if (!require(\"ggpubr\")) rhumba::install(\"r-ggpubr\")\n",
    "if (!require(\"ggseg\")) install.packages(\"ggseg\")\n",
    "if (!require(\"ggseg3d\")) install.packages(\"ggseg3d\")\n",
    "if (!require(\"easystats\")) install.packages(\"easystats\")\n",
    "if (!require(\"matrixStats\")) install.packages(\"matrixStats\")\n",
    "if (!require(\"ggsegDKT\")) install.packages(\"ggsegDKT\")\n",
    "if (!require(\"plotly\")) install.packages(\"plotly\")\n",
    "if (!require(\"officer\")) install.packages(\"officer\")\n",
    "if (!require(\"flextable\")) install.packages(\"flextable\")\n",
    "if (!require(\"RNifti\")) install.packages(\"RNifti\")\n",
    "if (!require(\"grid\")) install.packages(\"grid\")\n",
    "if (!require(\"tiff\")) install.packages(\"tiff\")\n",
    "\n",
    "library(effectsize)"
   ]
  },
  {
   "cell_type": "code",
   "execution_count": 4,
   "id": "39a24d73-f503-4238-9529-5f1612725aff",
   "metadata": {},
   "outputs": [],
   "source": [
    "# Custom function to round and format values\n",
    "round_and_format <- function(x, digits = 4, threshold = 0.0001) {\n",
    "  # Round the values first\n",
    "  x_rounded <- round(x, digits)\n",
    "  \n",
    "  # Format values in scientific notation if they are below the threshold and non-zero\n",
    "  x_formatted <- ifelse(abs(x) < threshold & abs(x) > 0, format(x, scientific = TRUE, digits = digits), x_rounded)\n",
    "  \n",
    "  return(x_formatted)\n",
    "}\n"
   ]
  },
  {
   "cell_type": "markdown",
   "id": "bc054152",
   "metadata": {},
   "source": [
    "# Read in data and create variables"
   ]
  },
  {
   "cell_type": "code",
   "execution_count": 1,
   "id": "2acdb421",
   "metadata": {},
   "outputs": [],
   "source": [
    "data=read.csv('/dagher/dagher11/filip/MAPT_OB//data/dataset_excluded_new.csv', header=T, quote='\"')\n",
    "data$genotype=NULL"
   ]
  },
  {
   "cell_type": "code",
   "execution_count": 2,
   "id": "ff23f34f-d754-43c9-9510-a04cbe012097",
   "metadata": {},
   "outputs": [],
   "source": [
    "AD_PRS=read.table('/dagher/dagher11/filip/MAPT_OB/data/UKB_AD_PRScs_zscored.csv', sep=',')\n",
    "colnames(AD_PRS)=c('eid','eid2','AD_PRS')\n",
    "data=merge(data, AD_PRS, by='eid', all.x=T)"
   ]
  },
  {
   "cell_type": "markdown",
   "id": "5ee1fcc3",
   "metadata": {},
   "source": [
    "## Set variables"
   ]
  },
  {
   "cell_type": "code",
   "execution_count": 5,
   "id": "6fd4a32e",
   "metadata": {},
   "outputs": [],
   "source": [
    "columns_to_check <- c(\"body_mass_index_bmi_21001.2.0\", \"age_when_attended_assessment_centre_21003.2.0\",\n",
    "                     'sex_31.0.0', 'date_of_attending_assessment_centre_53.2.0','uk_biobank_assessment_centre_54.2.0',\n",
    "                     'genotype_measurement_batch_22000.0.0',\n",
    "                     colnames(data[grep('genetic_principal',colnames(data))][1:15]))\n",
    "\n",
    "# Remove rows with NA values in the specified columns\n",
    "data <- data[complete.cases(data[, columns_to_check]), ]"
   ]
  },
  {
   "cell_type": "markdown",
   "id": "b2ec5c0e",
   "metadata": {},
   "source": [
    "## WM structures names"
   ]
  },
  {
   "cell_type": "code",
   "execution_count": 6,
   "id": "ed5e3093",
   "metadata": {},
   "outputs": [],
   "source": [
    "WM_names=c(\"Middle Cerebellar Peduncle\",\n",
    "\"Pontine Crossing Tract\",\n",
    "\"Genu of Corpus Callosum\",\n",
    "\"Body of Corpus Callosum\",\n",
    "\"Splenium of Corpus Callosum\",\n",
    "\"Fornix\",\n",
    "\"Corticospinal Tract Right\",\n",
    "\"Corticospinal Tract Left\",\n",
    "\"Medial Lemniscus Right\",\n",
    "\"Medial Lemniscus Left\",\n",
    "\"Inferior Cerebellar Peduncle Right\",\n",
    "\"Inferior Cerebellar Peduncle Left\",\n",
    "\"Superior Cerebellar Peduncle Right\",\n",
    "\"Superior Cerebellar Peduncle Left\",\n",
    "\"Cerebral Peduncle Right\",\n",
    "\"Cerebral Peduncle Left\",\n",
    "\"Anterior Limb of Internal Capsule Right\",\n",
    "\"Anterior Limb of Internal Capsule Left\",\n",
    "\"Posterior Limb of Internal Capsule Right\",\n",
    "\"Posterior Limb of Internal Capsule Left\",\n",
    "\"Retrolenticular Part of Internal Capsule Right\",\n",
    "\"Retrolenticular Part of Internal Capsule Left\",\n",
    "\"Anterior Corona Radiata Right\",\n",
    "\"Anterior Corona Radiata Left\",\n",
    "\"Superior Corona Radiata Right\",\n",
    "\"Superior Corona Radiata Left\",\n",
    "\"Posterior Corona Radiata Right\",\n",
    "\"Posterior Corona Radiata Left\",\n",
    "\"Posterior Thalamic Radiation Right\",\n",
    "\"Posterior Thalamic Radiation Left\",\n",
    "\"Sagittal Stratum Right\",\n",
    "\"Sagittal Stratum Left\",\n",
    "\"External Capsule Right\",\n",
    "\"External Capsule Left\",\n",
    "\"Cingulum Cingulate Gyrus Right\",\n",
    "\"Cingulum Cingulate Gyrus Left\",\n",
    "\"Cingulum Hippocampus Right\",\n",
    "\"Cingulum Hippocampus Left\",\n",
    "\"Fornix Cres Stria Terminalis Right\",\n",
    "\"Fornix Cres Stria Terminalis Left\",\n",
    "\"Superior Longitudinal Fasciculus Right\",\n",
    "\"Superior Longitudinal Fasciculus Left\",\n",
    "\"Superior Fronto-Occipital Fasciculus Right\",\n",
    "\"Superior Fronto-Occipital Fasciculus Left\",\n",
    "\"Uncinate Fasciculus Right\",\n",
    "\"Uncinate Fasciculus Left\",\n",
    "\"Tapetum Right\",\n",
    "\"Tapetum Left\")"
   ]
  },
  {
   "cell_type": "markdown",
   "id": "48de4b80-aadb-4305-99c9-f3aff14b8055",
   "metadata": {},
   "source": [
    "## Create a cardiometabolic score using PCA"
   ]
  },
  {
   "cell_type": "code",
   "execution_count": 7,
   "id": "7e723d29-df4a-4663-9f72-210dd84ed78b",
   "metadata": {},
   "outputs": [],
   "source": [
    "vars_pca=data.frame(data$c.reactive_protein_30710.0.0, data$`glucose_30740.0.0`, data$`glycated_haemoglobin_hba1c_30750.0.0`, \n",
    "                    data$`systolic_blood_pressure_automated_reading_4080.0.0`,\n",
    "                   data$`diastolic_blood_pressure_automated_reading_4079.0.0`, data$`triglycerides_30870.0.0`, \n",
    "                    data$`body_mass_index_bmi_21001.2.0`, data$`body_fat_percentage_23099.2.0`,\n",
    "                   data$`waist_circumference_48.2.0`/data$`hip_circumference_49.2.0`, data$ldl_direct_30780.0.0, \n",
    "                    data$`cholesterol_30690.0.0`, data$`hdl_cholesterol_30760.0.0`)"
   ]
  },
  {
   "cell_type": "code",
   "execution_count": 8,
   "id": "5f12d87e-c8f4-40ea-a104-8237eaf2922f",
   "metadata": {},
   "outputs": [],
   "source": [
    "vars_pca=scale(vars_pca)"
   ]
  },
  {
   "cell_type": "code",
   "execution_count": 9,
   "id": "668b9a93-881d-473d-82c6-5e6200bffe3c",
   "metadata": {},
   "outputs": [],
   "source": [
    "a=principal(vars_pca, nfactors=1, scores = TRUE, rotate='varimax', missing=TRUE)"
   ]
  },
  {
   "cell_type": "code",
   "execution_count": 10,
   "id": "19fccb22-d4a7-406b-9cef-32f6852e58ff",
   "metadata": {},
   "outputs": [],
   "source": [
    "data$pca1=a$scores[,1]\n",
    "#data$pca2=a$scores[,2]\n",
    "#data$pca3=a$scores[,3]"
   ]
  },
  {
   "cell_type": "markdown",
   "id": "24a60c71-f02a-46c8-86d2-f9533ae962d4",
   "metadata": {},
   "source": [
    "# Analysis function"
   ]
  },
  {
   "cell_type": "code",
   "execution_count": 11,
   "id": "07beb900",
   "metadata": {},
   "outputs": [],
   "source": [
    "wm_model = function(genotype, term, VoI, label){\n",
    "    \n",
    "        \n",
    "        results=matrix(ncol=9,nrow=length(c(grep('mean_fa',colnames(data)),\n",
    "                                   grep('mean_md',colnames(data))))) \n",
    "\n",
    "        for (i in 1:length(c(grep('mean_fa',colnames(data)),\n",
    "                    grep('mean_md',colnames(data))))) \n",
    "            {\n",
    "            \n",
    "        if (term=='main'){\n",
    "            \n",
    "       \n",
    "    \n",
    "               m=(lm(data[c(grep('mean_fa',colnames(data)),\n",
    "                                       grep('mean_md',colnames(data)))][[i]] ~ \n",
    "                      unlist(data[VoI]) +\n",
    "                      poly(data$age_when_attended_assessment_centre_21003.2.0, 2, raw=TRUE) *\n",
    "                      data$sex_31.0.0 + \n",
    "                      poly(difftime(as.Date(data$date_of_attending_assessment_centre_53.2.0), \n",
    "                               min(as.Date(data$date_of_attending_assessment_centre_53.2.0)), units='days'), 2, raw=TRUE) +\n",
    "                      data$uk_biobank_assessment_centre_54.2.0 +\n",
    "                      #data$mean_rfmri_head_motion_averaged_across_space_and_time_points_25741.2.0 +\n",
    "                      #data$mean_tfmri_head_motion_averaged_across_space_and_time_points_25742.2.0 +\n",
    "                      data$genotype_measurement_batch_22000.0.0 +\n",
    "                      ., data=subset(data, select=c(grep('principal',colnames(data)))[1:15])))\n",
    "\n",
    "                m1=summary(m)\n",
    "\n",
    "                results[i,1]=colnames(data)[c(grep('mean_fa',colnames(data)),\n",
    "                                               grep('mean_md',colnames(data)))][i] \n",
    "                results[i,2]=m1$coefficients[2,4] # p-value \n",
    "                results[i,3]=m1$coefficients[2,3] # t-value \n",
    "                results[i,4]=m1$coefficients[2,1] # est for \n",
    "                results[i,5]=m1$coefficients[2,2] # se for \n",
    "                results[i,6]=ifelse(grepl(\"left\", results[i, 1]), \n",
    "                        \"left\", \n",
    "                        ifelse(grepl(\"right\", results[i, 1]), \n",
    "                               \"right\", \n",
    "                               \"\"))\n",
    "                results[i,7]=colnames(data)[c(grep('mean_fa',colnames(data)),\n",
    "                                               grep('mean_md',colnames(data)))][i] \n",
    "                results[i,8]=m1$df[2]+m1$df[1]\n",
    "                results[i,9]=eta_squared(m)$Eta2_partial[2]\n",
    "\n",
    "                }\n",
    "        \n",
    "\n",
    "    if (term=='int'){\n",
    "        \n",
    "        \n",
    "               m=(lm(data[c(grep('mean_fa',colnames(data)),\n",
    "                                       grep('mean_md',colnames(data)))][[i]] ~ \n",
    "                      unlist(data[VoI]) *\n",
    "                      unlist(data[genotype])+ \n",
    "                      poly(data$age_when_attended_assessment_centre_21003.2.0, 2, raw=TRUE) *\n",
    "                      data$sex_31.0.0 + \n",
    "                      poly(difftime(as.Date(data$date_of_attending_assessment_centre_53.2.0), \n",
    "                               min(as.Date(data$date_of_attending_assessment_centre_53.2.0)), units='days'), 2, raw=TRUE) +\n",
    "                      data$uk_biobank_assessment_centre_54.2.0 +\n",
    "                      #data$mean_rfmri_head_motion_averaged_across_space_and_time_points_25741.2.0 +\n",
    "                      #data$mean_tfmri_head_motion_averaged_across_space_and_time_points_25742.2.0 +\n",
    "                      data$genotype_measurement_batch_22000.0.0 +\n",
    "                      ., data=subset(data, select=c(grep('principal',colnames(data)))[1:15])))\n",
    "\n",
    "                m1=summary(m)\n",
    "\n",
    "                results[i,1]=colnames(data)[c(grep('mean_fa',colnames(data)),\n",
    "                                               grep('mean_md',colnames(data)))][i] \n",
    "                results[i,2]=m1$coefficients[131,4] # p-value \n",
    "                results[i,3]=m1$coefficients[131,3] # t-value \n",
    "                results[i,4]=m1$coefficients[131,1] # sd for \n",
    "                results[i,5]=m1$coefficients[131,2] # estimate for \n",
    "                results[i,6]=ifelse(grepl(\"left\", results[i, 1]), \n",
    "                        \"left\", \n",
    "                        ifelse(grepl(\"right\", results[i, 1]), \n",
    "                               \"right\", \n",
    "                               \"\"))\n",
    "                results[i,7]=colnames(data)[c(grep('mean_fa',colnames(data)),\n",
    "                                               grep('mean_md',colnames(data)))][i] \n",
    "                results[i,8]=m1$df[2]+m1$df[1]\n",
    "                results[i,9]=eta_squared(m)$Eta2_partial[23]\n",
    "\n",
    "\n",
    "\n",
    "        \n",
    "    }\n",
    "            }\n",
    "\n",
    "            results[1:48,2]=p.adjust(results[1:48,2], method='BH')\n",
    "            results[49:96,2]=p.adjust(results[49:96,2], method='BH')\n",
    "            results=as.data.frame(results)\n",
    "            results$measure=c(rep('FA', 48),rep('MD',48))\n",
    "            colnames(results)=c('region','p','t','est','se','hemi','orig_label', 'Sample_size','Partial_E2','Phenotype')\n",
    "            results$t=as.numeric(results$t)\n",
    "            results$p=as.numeric(results$p)\n",
    "            results$se=as.numeric(results$se)\n",
    "            results$est=as.numeric(results$est)\n",
    "            results$tract=c(rep(1:48,2))\n",
    "            results$region=rep(WM_names)\n",
    "            results$Partial_E2=as.numeric(results$Partial_E2)\n",
    "\n",
    "\n",
    "            atlas <- readNifti('/usr/share/fsl/5.0/data/atlases/JHU/JHU-ICBM-labels-1mm.nii.gz')\n",
    "\n",
    "            sigFA=results[(results$p<0.05 & results$Phenotype=='FA'),]\n",
    "            sigMD=results[(results$p<0.05 & results$Phenotype=='MD'),]\n",
    "\n",
    "            for (i in 1:48){\n",
    "                if (i %in% sigFA$tract){atlas[atlas==i]=sigFA[sigFA$tract==i,]$t}\n",
    "                else {atlas[atlas==i]=0}\n",
    "                }\n",
    "\n",
    "            writeNifti(atlas, paste(\"/dagher/dagher11/filip/MAPT_OB/data/sigFA_\",VoI, term,\".nii.gz\", sep=''))\n",
    "\n",
    "            atlas <- readNifti('/usr/share/fsl/5.0/data/atlases/JHU/JHU-ICBM-labels-1mm.nii.gz')\n",
    "\n",
    "            for (i in 1:48){\n",
    "                if (i %in% sigMD$tract){atlas[atlas==i]=sigMD[sigMD$tract==i,]$t}\n",
    "                else {atlas[atlas==i]=0}\n",
    "                }\n",
    "\n",
    "            writeNifti(atlas, paste(\"/dagher/dagher11/filip/MAPT_OB/data/sigMD_\", VoI, term,\".nii.gz\", sep=''))\n",
    "    \n",
    "            results=results %>% \n",
    "             mutate_if(is.numeric, round_and_format, digits = 4, threshold = 0.0001)\n",
    "            tab=flextable(results[,c(1:3,8:10)])\n",
    "            tab=autofit(tab,add_w = 0.1,add_h = 0.1,part = c(\"body\", \"header\"),unit = \"in\")\n",
    "            tab=fit_to_width(tab, max_width = 7)\n",
    "            if (term=='main'){\n",
    "            tab=set_caption(tab, caption = paste(\"Table S - WM and\", VoI, 'associations', sep=' '))}\n",
    "            else if (term=='int'){\n",
    "            tab=set_caption(tab, caption = paste(\"Table S - WM*\",VoI, \"and\", genotype, 'associations', sep=' '))}\n",
    "            \n",
    "            data$meanFA=rowMeans(data[results[results$p<0.05,][as.numeric(grep('mean_fa', results[results$p<0.05,]$orig_label)),]$orig_label],na.rm=T)\n",
    "            data$meanMD=rowMeans(data[results[results$p<0.05,][as.numeric(grep('mean_md', results[results$p<0.05,]$orig_label)),]$orig_label],na.rm=T)\n",
    "             \n",
    "            data=data %>% \n",
    "              mutate(quantilegroup = ntile(body_mass_index_bmi_21001.2.0, 10)) \n",
    "\n",
    "            na_dat=!is.na(data[genotype])\n",
    "            data$genotype_interest=data[[genotype]]\n",
    "    \n",
    "            FA_box = filter(data, (na_dat & !is.na(data$genotype_interest))) %>% \n",
    "                ggplot() + \n",
    "                    geom_boxplot(aes(x=as.factor(genotype_interest), y=meanFA, fill=as.factor(genotype_interest)), \n",
    "                                 show.legend=TRUE, outlier.shape=NA) +\n",
    "                    theme_minimal() + \n",
    "                    ylim(0.5,0.63) +\n",
    "                    ylab(paste('Mean FA in regions related to',label,sep=' ')) +\n",
    "                    xlab('BMI decile') + \n",
    "                    scale_fill_manual(labels = c(paste('no',genotype,sep=' '), genotype), values = c(\"white\", \"#ADEFD1FF\")) +\n",
    "                    guides(fill=guide_legend(title=\"Genotype\"))+\n",
    "                        theme(axis.text.x=element_blank()) \n",
    "\n",
    "\n",
    "            MD_box = filter(data, (na_dat & !is.na(data$genotype_interest))) %>% \n",
    "                ggplot() + \n",
    "                    geom_boxplot(aes(x=as.factor(genotype_interest), y=meanMD, fill=as.factor(genotype_interest)), \n",
    "                                 show.legend=TRUE, outlier.shape=NA) +\n",
    "                    theme_minimal() + \n",
    "                    ylim(0.0007,0.000855) +\n",
    "                    ylab(paste('Mean MD in regions related to',label,sep=' ')) +\n",
    "                    xlab('BMI decile') + \n",
    "                    scale_fill_manual(labels = c(paste('no',genotype,sep=' '), genotype), values = c(\"white\", \"#ADEFD1FF\")) +\n",
    "                    guides(fill=guide_legend(title=\"Genotype\"))+\n",
    "                        theme(axis.text.x=element_blank()) \n",
    "\n",
    "\n",
    "        return(list(tab, FA_box, MD_box))\n",
    "         \n",
    "    }\n"
   ]
  },
  {
   "cell_type": "code",
   "execution_count": 12,
   "id": "8ac7b38e",
   "metadata": {},
   "outputs": [],
   "source": [
    "#data=data[!(data$body_mass_index_bmi_21001.2.0>35 | is.na(data$body_mass_index_bmi_21001.2.0)),]"
   ]
  },
  {
   "cell_type": "markdown",
   "id": "4e2c8556",
   "metadata": {},
   "source": [
    "https://molecularneurodegeneration.biomedcentral.com/articles/10.1186/s13024-017-0224-6"
   ]
  },
  {
   "cell_type": "code",
   "execution_count": 13,
   "id": "8ad91cce",
   "metadata": {},
   "outputs": [
    {
     "data": {
      "text/plain": [
       "\n",
       "    0     1 \n",
       "25049  8666 "
      ]
     },
     "metadata": {},
     "output_type": "display_data"
    },
    {
     "data": {
      "text/plain": [
       "\n",
       "    0     1 \n",
       "13355 20337 "
      ]
     },
     "metadata": {},
     "output_type": "display_data"
    }
   ],
   "source": [
    "data$E4=dplyr::recode(data$haplotype_APOE, 'Apo-Îµ3/Îµ3'=0, 'Apo-Îµ3/Îµ4'=1, 'Apo-Îµ2/Îµ3'=0,\n",
    "'Apo-Îµ1/Îµ3'=0, 'Apo-Îµ4/Îµ4'=1, 'Apo-Îµ2/Îµ2'=0)\n",
    "data$H1=dplyr::recode(data$haplotype_MAPT, '0'=1, '1'=0, '2'=0)\n",
    "\n",
    "table(data$E4)\n",
    "table(data$H1)"
   ]
  },
  {
   "cell_type": "markdown",
   "id": "1bf13c7e",
   "metadata": {},
   "source": [
    "# Analyses"
   ]
  },
  {
   "cell_type": "markdown",
   "id": "c4248880-6b85-44be-85d1-8d973be8a0c9",
   "metadata": {},
   "source": [
    "## Analysis using function"
   ]
  },
  {
   "cell_type": "code",
   "execution_count": 14,
   "id": "67c31df0",
   "metadata": {},
   "outputs": [
    {
     "name": "stderr",
     "output_type": "stream",
     "text": [
      "Warning message:\n",
      "“\u001b[1m\u001b[22mUsing one column matrices in `filter()` was deprecated in dplyr 1.1.0.\n",
      "\u001b[36mℹ\u001b[39m Please use one dimensional logical vectors instead.”\n"
     ]
    }
   ],
   "source": [
    "genotype=c('E4','H1', 'AD_PRS')\n",
    "term=c('main','int')\n",
    "VoI=c('body_mass_index_bmi_21001.2.0','pca1')\n",
    "label=c('Body mass index','RC 1')\n",
    "\n",
    "for (g in 1:length(genotype)){\n",
    "    for (t in 1:length(term)){\n",
    "        for (v in 1:length(VoI)){\n",
    "                \n",
    "            assign(paste(genotype[g], term[t], VoI[v], sep='_'), \n",
    "                    wm_model(genotype[g], term[t], VoI[v], label[v]))\n",
    "                \n",
    "            }\n",
    "        }       \n",
    "    }"
   ]
  },
  {
   "cell_type": "markdown",
   "id": "351ee8ba",
   "metadata": {},
   "source": [
    "## Save to a table"
   ]
  },
  {
   "cell_type": "code",
   "execution_count": 15,
   "id": "b0d98df6",
   "metadata": {},
   "outputs": [],
   "source": [
    "save_as_docx(E4_main_body_mass_index_bmi_21001.2.0[[1]], E4_int_body_mass_index_bmi_21001.2.0[[1]], \n",
    "             H1_int_body_mass_index_bmi_21001.2.0[[1]],AD_PRS_int_body_mass_index_bmi_21001.2.0[[1]],\n",
    "             E4_main_pca1[[1]], E4_int_pca1[[1]], \n",
    "             H1_int_pca1[[1]],AD_PRS_int_pca1[[1]],\n",
    "             path='/dagher/dagher11/filip/MAPT_OB/Tables/WM_Tables_function_BMI_focus_AD_PRS.docx')"
   ]
  },
  {
   "cell_type": "markdown",
   "id": "60d172ab",
   "metadata": {},
   "source": [
    "# Arrange all plots together"
   ]
  },
  {
   "cell_type": "markdown",
   "id": "b2584f5a-0688-4e9d-8378-2b64cda86d91",
   "metadata": {},
   "source": [
    "## Do this after running Plot_WM.ipynb"
   ]
  },
  {
   "cell_type": "markdown",
   "id": "f56082cc-5a1f-471e-b85e-be383fb5b418",
   "metadata": {},
   "source": [
    "# Figure 2"
   ]
  },
  {
   "cell_type": "code",
   "execution_count": 19,
   "id": "221b2632-eca7-4266-8c86-1dbb03edddd8",
   "metadata": {},
   "outputs": [],
   "source": [
    "genotype=c('rs7412') # Placeholder variable\n",
    "term=c('main')\n",
    "VoI=c('E4','H1', 'AD_PRS')\n",
    "label=c('E4','H1', 'AD PRS')\n",
    "\n",
    "for (g in 1:length(genotype)){\n",
    "    for (t in 1:length(term)){\n",
    "        for (v in 1:length(VoI)){\n",
    "                \n",
    "            assign(paste(genotype[g], term[t], VoI[v], sep='_'), \n",
    "                    wm_model(genotype[g], term[t], VoI[v], label[v]))\n",
    "                \n",
    "            }\n",
    "        }       \n",
    "    }"
   ]
  },
  {
   "cell_type": "code",
   "execution_count": 17,
   "id": "bf738389-2ebc-4b2a-8676-cfd044d62ec6",
   "metadata": {},
   "outputs": [
    {
     "data": {
      "text/html": [
       "<strong>png:</strong> 2"
      ],
      "text/latex": [
       "\\textbf{png:} 2"
      ],
      "text/markdown": [
       "**png:** 2"
      ],
      "text/plain": [
       "png \n",
       "  2 "
      ]
     },
     "metadata": {},
     "output_type": "display_data"
    }
   ],
   "source": [
    "imp_figs=list()\n",
    "Figs_paths=c('/dagher/dagher11/filip/MAPT_OB/figures/sigFA_E4main.tiff',\n",
    "             '/dagher/dagher11/filip/MAPT_OB/figures/sigMD_E4main.tiff',\n",
    "             '/dagher/dagher11/filip/MAPT_OB/figures/sigFA_H1main.tiff',\n",
    "             '/dagher/dagher11/filip/MAPT_OB/figures/sigMD_H1main.tiff')\n",
    "             \n",
    "for (i in 1:length(Figs_paths)){\n",
    "    imp_figs[[i]]=rasterGrob(readTIFF(Figs_paths[i], native=TRUE))\n",
    "}\n",
    "\n",
    "png('/dagher/dagher11/filip/MAPT_OB/figures/Figure2.png',width=4000, height=2000, res=300)\n",
    "ggarrange(imp_figs[[1]], imp_figs[[2]], imp_figs[[3]], imp_figs[[4]], labels=c('a','b','c','d'), ncol=2, nrow=2)\n",
    "dev.off()"
   ]
  },
  {
   "cell_type": "code",
   "execution_count": 20,
   "id": "54db5994-8bb5-4408-91b8-fcbc8a801c1f",
   "metadata": {},
   "outputs": [],
   "source": [
    "save_as_docx(rs7412_main_E4[[1]], rs7412_main_H1[[1]], rs7412_main_AD_PRS[[1]], \n",
    "             path='/dagher/dagher11/filip/MAPT_OB/Tables/WM_Tables_GENETICS.docx')"
   ]
  },
  {
   "cell_type": "markdown",
   "id": "1fcb5c4f-9b61-4632-b045-1ce0edbf6baf",
   "metadata": {},
   "source": [
    "## Figure 4"
   ]
  },
  {
   "cell_type": "code",
   "execution_count": 29,
   "id": "b3e569aa-ed50-448b-a395-68df43594d96",
   "metadata": {},
   "outputs": [],
   "source": [
    "imp_figs=list()\n",
    "Figs_paths=c('/dagher/dagher11/filip/MAPT_OB/figures/sigFA_body_mass_index_bmi_21001.2.0main.tiff',\n",
    "             '/dagher/dagher11/filip/MAPT_OB/figures/sigMD_body_mass_index_bmi_21001.2.0main.tiff')\n",
    "             \n",
    "for (i in 1:length(Figs_paths)){\n",
    "    imp_figs[[i]]=rasterGrob(readTIFF(Figs_paths[i], native=TRUE))\n",
    "}\n",
    "\n"
   ]
  },
  {
   "cell_type": "code",
   "execution_count": 30,
   "id": "6a9da6a4",
   "metadata": {},
   "outputs": [
    {
     "data": {
      "text/html": [
       "<strong>png:</strong> 2"
      ],
      "text/latex": [
       "\\textbf{png:} 2"
      ],
      "text/markdown": [
       "**png:** 2"
      ],
      "text/plain": [
       "png \n",
       "  2 "
      ]
     },
     "metadata": {},
     "output_type": "display_data"
    }
   ],
   "source": [
    "png('/dagher/dagher11/filip/MAPT_OB/figures/Figure4.png',width=4000, height=2500, res=300)\n",
    "ggarrange(ggarrange(imp_figs[[1]], imp_figs[[2]],labels=c('a','b'), ncol=2, nrow=1),\n",
    "          ggarrange(E4_main_body_mass_index_bmi_21001.2.0[[2]] + theme(text=element_text(size=15)), \n",
    "          E4_main_body_mass_index_bmi_21001.2.0[[3]] + theme(text=element_text(size=15)),\n",
    "          H1_main_body_mass_index_bmi_21001.2.0[[2]] + theme(text=element_text(size=15)), \n",
    "          H1_main_body_mass_index_bmi_21001.2.0[[3]] + theme(text=element_text(size=15)),\n",
    "          labels = c(\"c\",\"d\",\"e\",\"f\"), ncol=4),\n",
    "          ncol = 1, nrow = 2, hjust = 0, heights=c(1,2))\n",
    "dev.off()"
   ]
  },
  {
   "cell_type": "markdown",
   "id": "f4365a08-4e29-4ecb-8ca0-7596e98e0797",
   "metadata": {},
   "source": [
    "## Figure S4"
   ]
  },
  {
   "cell_type": "code",
   "execution_count": 32,
   "id": "2128f25c-ef4d-4651-853a-87346e15c5d6",
   "metadata": {},
   "outputs": [
    {
     "data": {
      "text/html": [
       "<strong>png:</strong> 2"
      ],
      "text/latex": [
       "\\textbf{png:} 2"
      ],
      "text/markdown": [
       "**png:** 2"
      ],
      "text/plain": [
       "png \n",
       "  2 "
      ]
     },
     "metadata": {},
     "output_type": "display_data"
    }
   ],
   "source": [
    "imp_figs=list()\n",
    "Figs_paths=c('/dagher/dagher11/filip/MAPT_OB/figures/sigFA_pca1main.tiff',\n",
    "             '/dagher/dagher11/filip/MAPT_OB/figures/sigMD_pca1main.tiff')\n",
    "             \n",
    "for (i in 1:length(Figs_paths)){\n",
    "    imp_figs[[i]]=rasterGrob(readTIFF(Figs_paths[i], native=TRUE))\n",
    "}\n",
    "\n",
    "png('/dagher/dagher11/filip/MAPT_OB/figures/FigureS4.png',width=4000, height=2500, res=300)\n",
    "ggarrange(imp_figs[[1]], imp_figs[[2]],labels=c('a','b'), ncol=1, nrow=2)\n",
    "dev.off()"
   ]
  },
  {
   "cell_type": "code",
   "execution_count": null,
   "id": "0866ed09-2a20-402f-a87d-dbe96a35d79b",
   "metadata": {},
   "outputs": [],
   "source": []
  }
 ],
 "metadata": {
  "kernelspec": {
   "display_name": "mambaR",
   "language": "R",
   "name": "r4"
  },
  "language_info": {
   "codemirror_mode": "r",
   "file_extension": ".r",
   "mimetype": "text/x-r-source",
   "name": "R",
   "pygments_lexer": "r",
   "version": "4.3.1"
  }
 },
 "nbformat": 4,
 "nbformat_minor": 5
}
