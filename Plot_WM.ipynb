{
 "cells": [
  {
   "cell_type": "code",
   "execution_count": 1,
   "id": "9f8bc08b",
   "metadata": {},
   "outputs": [
    {
     "name": "stderr",
     "output_type": "stream",
     "text": [
      "/dagher/dagher12/filip/Software/mamba/envs/py3/lib/python3.7/site-packages/nilearn/__init__.py:67: FutureWarning: Python 3.7 support is deprecated and will be removed in release 0.12 of Nilearn. Consider switching to Python 3.9 or 3.10.\n",
      "  _python_deprecation_warnings()\n"
     ]
    }
   ],
   "source": [
    "import nilearn\n",
    "from nilearn import plotting\n",
    "import matplotlib\n",
    "import numpy as np\n",
    "import matplotlib.pyplot as plt\n",
    "import matplotlib.colors as mcolors"
   ]
  },
  {
   "cell_type": "markdown",
   "id": "631bceb0",
   "metadata": {},
   "source": [
    "# Create cmap functions"
   ]
  },
  {
   "cell_type": "code",
   "execution_count": 2,
   "id": "af4d4477",
   "metadata": {},
   "outputs": [],
   "source": [
    "def hex_to_rgb(value):\n",
    "    '''\n",
    "    Converts hex to rgb colours\n",
    "    value: string of 6 characters representing a hex colour.\n",
    "    Returns: list length 3 of RGB values'''\n",
    "    value = value.strip(\"#\") # removes hash symbol if present\n",
    "    lv = len(value)\n",
    "    return tuple(int(value[i:i + lv // 3], 16) for i in range(0, lv, lv // 3))\n",
    "\n",
    "\n",
    "def rgb_to_dec(value):\n",
    "    '''\n",
    "    Converts rgb to decimal colours (i.e. divides each value by 256)\n",
    "    value: list (length 3) of RGB values\n",
    "    Returns: list (length 3) of decimal values'''\n",
    "    return [v/256 for v in value]"
   ]
  },
  {
   "cell_type": "code",
   "execution_count": 3,
   "id": "2cd697d9",
   "metadata": {},
   "outputs": [],
   "source": [
    "def get_continuous_cmap(hex_list, float_list=None):\n",
    "    ''' creates and returns a color map that can be used in heat map figures.\n",
    "        If float_list is not provided, colour map graduates linearly between each color in hex_list.\n",
    "        If float_list is provided, each color in hex_list is mapped to the respective location in float_list. \n",
    "        \n",
    "        Parameters\n",
    "        ----------\n",
    "        hex_list: list of hex code strings\n",
    "        float_list: list of floats between 0 and 1, same length as hex_list. Must start with 0 and end with 1.\n",
    "        \n",
    "        Returns\n",
    "        ----------\n",
    "        colour map'''\n",
    "    rgb_list = [rgb_to_dec(hex_to_rgb(i)) for i in hex_list]\n",
    "    if float_list:\n",
    "        pass\n",
    "    else:\n",
    "        float_list = list(np.linspace(0,1,len(rgb_list)))\n",
    "        \n",
    "    cdict = dict()\n",
    "    for num, col in enumerate(['red', 'green', 'blue']):\n",
    "        col_list = [[float_list[i], rgb_list[i][num], rgb_list[i][num]] for i in range(len(float_list))]\n",
    "        cdict[col] = col_list\n",
    "    cmp = mcolors.LinearSegmentedColormap('my_cmp', segmentdata=cdict, N=256)\n",
    "    return cmp\n",
    "\n",
    "#x, y = np.mgrid[-5:5:0.05, -5:5:0.05]\n",
    "#z = (np.sqrt(x**2 + y**2) + np.sin(x**2 + y**2))\n",
    "\n",
    "#fig, ax = plt.subplots(1,1)\n",
    "#im = ax.imshow(z, cmap=get_continuous_cmap(hex_list))\n",
    "#fig.colorbar(im)\n",
    "#ax.yaxis.set_major_locator(plt.NullLocator()) # remove y axis ticks\n",
    "#ax.xaxis.set_major_locator(plt.NullLocator()) # remove x axis ticks\n"
   ]
  },
  {
   "cell_type": "markdown",
   "id": "f174d0ee",
   "metadata": {},
   "source": [
    "# My cmap"
   ]
  },
  {
   "cell_type": "code",
   "execution_count": 4,
   "id": "e716b843",
   "metadata": {},
   "outputs": [],
   "source": [
    "hex_list = ['#00203FFF','#ffffff','#68e2aa']"
   ]
  },
  {
   "cell_type": "markdown",
   "id": "c9c5cce5",
   "metadata": {},
   "source": [
    "# Plot neg"
   ]
  },
  {
   "cell_type": "code",
   "execution_count": 11,
   "id": "1297af2e",
   "metadata": {},
   "outputs": [],
   "source": [
    "Plots=['sigFA_body_mass_index_bmi_21001.2.0main','sigMD_body_mass_index_bmi_21001.2.0main']\n",
    "#Plots=['WMH_FA.nii','WMH_MD.nii']\n",
    "\n",
    "for i in Plots:\n",
    "    WM=nilearn.plotting.plot_glass_brain('/dagher/dagher11/filip/MAPT_OB/data/'+i+'.nii.gz',\n",
    "                                  colorbar=True,\n",
    "                                  display_mode='lyrz', \n",
    "                                  plot_abs=False,\n",
    "                                  cmap=get_continuous_cmap(hex_list))\n",
    "    WM.savefig('/dagher/dagher11/filip/MAPT_OB/figures/'+i+'.tiff')     \n",
    "    WM.close()"
   ]
  },
  {
   "cell_type": "code",
   "execution_count": 12,
   "id": "9809da33",
   "metadata": {},
   "outputs": [],
   "source": [
    "Plots=['sigFA_pca1main','sigMD_pca1main']\n",
    "#Plots=['WMH_FA.nii','WMH_MD.nii']\n",
    "\n",
    "for i in Plots:\n",
    "    WM=nilearn.plotting.plot_glass_brain('/dagher/dagher11/filip/MAPT_OB/data/'+i+'.nii.gz',\n",
    "                                  colorbar=True,\n",
    "                                  display_mode='lyrz', \n",
    "                                  plot_abs=False,\n",
    "                                  cmap=get_continuous_cmap(hex_list))\n",
    "    WM.savefig('/dagher/dagher11/filip/MAPT_OB/figures/'+i+'.tiff')     \n",
    "    WM.close()"
   ]
  },
  {
   "cell_type": "code",
   "execution_count": 5,
   "id": "b5557e0f-380b-4e99-ae7e-0f85c624d38b",
   "metadata": {},
   "outputs": [],
   "source": [
    "Plots=['sigFA_E4main','sigMD_E4main', 'sigFA_H1main','sigMD_H1main']\n",
    "#Plots=['WMH_FA.nii','WMH_MD.nii']\n",
    "\n",
    "for i in Plots:\n",
    "    WM=nilearn.plotting.plot_glass_brain('/dagher/dagher11/filip/MAPT_OB/data/'+i+'.nii.gz',\n",
    "                                  colorbar=True,\n",
    "                                  display_mode='lyrz', \n",
    "                                  plot_abs=False,\n",
    "                                  cmap=get_continuous_cmap(hex_list))\n",
    "    WM.savefig('/dagher/dagher11/filip/MAPT_OB/figures/'+i+'.tiff')     \n",
    "    WM.close()"
   ]
  },
  {
   "cell_type": "code",
   "execution_count": null,
   "id": "ff06abc6-2483-4862-971b-7146b4943bb7",
   "metadata": {},
   "outputs": [],
   "source": []
  }
 ],
 "metadata": {
  "kernelspec": {
   "display_name": "py3mamba",
   "language": "python",
   "name": "py3mamba"
  },
  "language_info": {
   "codemirror_mode": {
    "name": "ipython",
    "version": 3
   },
   "file_extension": ".py",
   "mimetype": "text/x-python",
   "name": "python",
   "nbconvert_exporter": "python",
   "pygments_lexer": "ipython3",
   "version": "3.7.12"
  }
 },
 "nbformat": 4,
 "nbformat_minor": 5
}
