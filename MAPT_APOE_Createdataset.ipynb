{
 "cells": [
  {
   "cell_type": "markdown",
   "metadata": {},
   "source": [
    "# Load libraries"
   ]
  },
  {
   "cell_type": "code",
   "execution_count": 1,
   "metadata": {
    "scrolled": true
   },
   "outputs": [
    {
     "name": "stderr",
     "output_type": "stream",
     "text": [
      "Loading required package: psych\n",
      "\n",
      "Loading required package: dplyr\n",
      "\n",
      "\n",
      "Attaching package: ‘dplyr’\n",
      "\n",
      "\n",
      "The following objects are masked from ‘package:stats’:\n",
      "\n",
      "    filter, lag\n",
      "\n",
      "\n",
      "The following objects are masked from ‘package:base’:\n",
      "\n",
      "    intersect, setdiff, setequal, union\n",
      "\n",
      "\n",
      "Loading required package: ggplot2\n",
      "\n",
      "\n",
      "Attaching package: ‘ggplot2’\n",
      "\n",
      "\n",
      "The following objects are masked from ‘package:psych’:\n",
      "\n",
      "    %+%, alpha\n",
      "\n",
      "\n",
      "Loading required package: car\n",
      "\n",
      "Loading required package: carData\n",
      "\n",
      "\n",
      "Attaching package: ‘car’\n",
      "\n",
      "\n",
      "The following object is masked from ‘package:dplyr’:\n",
      "\n",
      "    recode\n",
      "\n",
      "\n",
      "The following object is masked from ‘package:psych’:\n",
      "\n",
      "    logit\n",
      "\n",
      "\n",
      "Loading required package: janitor\n",
      "\n",
      "\n",
      "Attaching package: ‘janitor’\n",
      "\n",
      "\n",
      "The following objects are masked from ‘package:stats’:\n",
      "\n",
      "    chisq.test, fisher.test\n",
      "\n",
      "\n",
      "Loading required package: readxl\n",
      "\n",
      "\n",
      "Attaching package: ‘matrixStats’\n",
      "\n",
      "\n",
      "The following object is masked from ‘package:dplyr’:\n",
      "\n",
      "    count\n",
      "\n",
      "\n"
     ]
    }
   ],
   "source": [
    "#rhumba::set_channels(c(\"conda-forge\", \"default\")) # Rhumba makes it easier to install packages in conda; set channels for rhumba\n",
    "\n",
    "if (!require(\"psych\")) rhumba::install(\"r-psych\")\n",
    "if (!require(\"dplyr\")) rhumba::install(\"r-dplyr\")\n",
    "if (!require(\"ggplot2\")) rhumba::install(\"r-ggplot2\")\n",
    "if (!require(\"car\")) rhumba::install(\"r-car\")\n",
    "#if (!require(\"easystats\")) install.packages(\"easystats\")\n",
    "if (!require(\"janitor\")) rhumba::install(\"r-janitor\")\n",
    "if (!require(\"readxl\")) rhumba::install(\"r-readxl\")\n",
    "library(matrixStats)\n",
    "#if (!require(\"remotes\")) rhumba::install(\"r-remotes\")\n",
    "#if (!require(\"ggseg\")) install.packages(\"ggseg\")\n",
    "#library(ggsegDKT)"
   ]
  },
  {
   "cell_type": "markdown",
   "metadata": {},
   "source": [
    "# Read data and exclude individuals with neurological disorders"
   ]
  },
  {
   "cell_type": "code",
   "execution_count": 2,
   "metadata": {},
   "outputs": [
    {
     "data": {
      "text/html": [
       "46810"
      ],
      "text/latex": [
       "46810"
      ],
      "text/markdown": [
       "46810"
      ],
      "text/plain": [
       "[1] 46810"
      ]
     },
     "metadata": {},
     "output_type": "display_data"
    },
    {
     "data": {
      "text/html": [
       "41175"
      ],
      "text/latex": [
       "41175"
      ],
      "text/markdown": [
       "41175"
      ],
      "text/plain": [
       "[1] 41175"
      ]
     },
     "metadata": {},
     "output_type": "display_data"
    }
   ],
   "source": [
    "data=read.table('/dagher/dagher11/filip/MAPT_OB/data/extracted_data_updated_2024.csv', header=TRUE, na.strings = \"\", sep=',', quote = \"\\\"\")\n",
    "icddate=read.table('/dagher/dagher11/filip/UPF/data/icd10date.csv', header=TRUE, na.strings = \"\", sep=',', quote = \"\\\"\")\n",
    "data=merge(data,icddate)\n",
    "\n",
    "exclusions_neuro=c('^G','^E0','^E10','^E2','^E3','^A8','^C70','^C71','^C72','^I6')\n",
    "# G - nervous system; F - Mental and behavioural; E0 - thyroid; E11-14 - diabetes, E2-3 endocrine glands; \n",
    "# A8 - viral infections of the CNS; C70-72 malignant neoplasms of brain, meninges and spinal cord; \n",
    "# I6 - cerebrovscular\n",
    "\n",
    "icd_dates_cols=grep('icd10_41280', colnames(data))\n",
    "index=1\n",
    "data$neurological_disorder = NA\n",
    "\n",
    "for (i in as.numeric(grep('icd10_41270', colnames(data)))) {\n",
    "    for (d in 1:length(exclusions_neuro)) {\n",
    "        data$neurological_disorder[grepl(exclusions_neuro[d], data[[i]]) & \n",
    "                                   data[icd_dates_cols[index]]<data$`date_of_attending_assessment_centre_53.2.0`] = 1\n",
    "    }\n",
    "    index=index+1\n",
    "}\n",
    "\n",
    "data$excluded <- NA\n",
    "data$excluded[data$neurological_disorder ==1] <- 1\n",
    "\n",
    "data=data[!is.na(data$`mean_thickness_of_caudalanteriorcingulate_left_hemisphere_27174.2.0`),]\n",
    "data$included<-car::recode(data$excluded, \"1='excluded'; else='included'\")\n",
    "nrow(data)\n",
    "#Select subjects if included \n",
    "data_excluded <- subset(data, included==\"included\")\n",
    "\n",
    "\n",
    "ukbb_all=data_excluded\n",
    "\n",
    "ukbb_all$WHR = ukbb_all$waist_circumference_48.0.0/ukbb_all$hip_circumference_49.0.0\n",
    "ukbb_all$agesq=ukbb_all$age_when_attended_assessment_centre_21003.2.0^2\n",
    "\n",
    "nrow(ukbb_all)"
   ]
  },
  {
   "cell_type": "code",
   "execution_count": null,
   "metadata": {},
   "outputs": [],
   "source": [
    "46810\n",
    "41175"
   ]
  },
  {
   "cell_type": "markdown",
   "metadata": {},
   "source": [
    "# Remove outliers"
   ]
  },
  {
   "cell_type": "code",
   "execution_count": 3,
   "metadata": {},
   "outputs": [
    {
     "data": {
      "text/html": [
       "25701890"
      ],
      "text/latex": [
       "25701890"
      ],
      "text/markdown": [
       "25701890"
      ],
      "text/plain": [
       "[1] 25701890"
      ]
     },
     "metadata": {},
     "output_type": "display_data"
    },
    {
     "data": {
      "text/html": [
       "25810745"
      ],
      "text/latex": [
       "25810745"
      ],
      "text/markdown": [
       "25810745"
      ],
      "text/plain": [
       "[1] 25810745"
      ]
     },
     "metadata": {},
     "output_type": "display_data"
    }
   ],
   "source": [
    "sum(is.na(ukbb_all))\n",
    "for (j in 1:ncol(ukbb_all)) { # \n",
    "    if (is.numeric(ukbb_all[[j]])){\n",
    "        #print(colnames(ukbb_all)[j])\n",
    "        Q3=as.numeric(quantile(ukbb_all[j],0.75, na.rm=TRUE))\n",
    "        Q1=as.numeric(quantile(ukbb_all[j],0.25, na.rm=TRUE))\n",
    "        upper=Q3+(2.2*(Q3-Q1))\n",
    "        lower=Q1-(2.2*(Q3-Q1))\n",
    "        ukbb_all[j][ukbb_all[j]<lower]=NA\n",
    "        ukbb_all[j][ukbb_all[j]>upper]=NA\n",
    "        }\n",
    "    }\n",
    "sum(is.na(ukbb_all))"
   ]
  },
  {
   "cell_type": "markdown",
   "metadata": {},
   "source": [
    "# Merge with genotype data"
   ]
  },
  {
   "cell_type": "code",
   "execution_count": 4,
   "metadata": {},
   "outputs": [],
   "source": [
    "data_conf=read.table('/dagher/dagher11/filip/MAPT_OB/data/UKBB_CA_CT_CV_SCV.csv', sep=',', header=T, skip=1)\n",
    "#data_conf=clean_names(data_conf)"
   ]
  },
  {
   "cell_type": "code",
   "execution_count": 5,
   "metadata": {},
   "outputs": [],
   "source": [
    "data_APOE=read_excel('/dagher/dagher11/filip/MAPT_OB/data/APOE_annotated.xlsx')\n",
    "colnames(data_APOE)=c(colnames(data_APOE)[1:length(colnames(data_APOE))-1],'haplotype_APOE')\n",
    "data_MAPT=read.table('/dagher/dagher11/filip/MAPT_OB/data/MAPT_haplotype_UKBB.csv', sep=',', header=T)\n",
    "colnames(data_MAPT)=c(colnames(data_MAPT)[1:length(colnames(data_MAPT))-1],'haplotype_MAPT')"
   ]
  },
  {
   "cell_type": "code",
   "execution_count": 6,
   "metadata": {},
   "outputs": [],
   "source": [
    "data_all=merge(ukbb_all, data_MAPT, by.x='eid', by.y='fid', all.x=T)\n",
    "data_all=merge(data_all, data_APOE, by.x='eid', by.y='fid', all.x=T)\n",
    "#data_all=merge(data_all, dplyr::select(data_conf, encoded_anonymised_participant_id_eid,\n",
    "#                                      genotype_measurement_batch_uses_data_coding_22000_22000_0_0),\n",
    "#              by.x='eid', by.y='encoded_anonymised_participant_id_eid', all.x=T)"
   ]
  },
  {
   "cell_type": "markdown",
   "metadata": {},
   "source": [
    "# Save"
   ]
  },
  {
   "cell_type": "code",
   "execution_count": 7,
   "metadata": {},
   "outputs": [],
   "source": [
    "write.csv(data_all, '/dagher/dagher11/filip/MAPT_OB/data/dataset_excluded_new.csv', quote=T, row.names=F)"
   ]
  }
 ],
 "metadata": {
  "kernelspec": {
   "display_name": "R",
   "language": "R",
   "name": "ir"
  },
  "language_info": {
   "codemirror_mode": "r",
   "file_extension": ".r",
   "mimetype": "text/x-r-source",
   "name": "R",
   "pygments_lexer": "r",
   "version": "4.3.1"
  }
 },
 "nbformat": 4,
 "nbformat_minor": 4
}
